{
 "cells": [
  {
   "cell_type": "markdown",
   "metadata": {},
   "source": [
    "## モンティホール問題\n",
    "\n",
    "* 3つのくじがあり、1つが当たり\n",
    "* 1つ選択したところで、残り2つのうちハズレを1つ教えてくれる\n",
    "* この時、選択を変えた方がよいか\n",
    "\n",
    "検証するために、以下の条件での分布を調べる\n",
    "* 選択を変えない\n",
    "* 残った方に変える\n",
    "* 再度2つから選びなおす"
   ]
  },
  {
   "cell_type": "code",
   "execution_count": 5,
   "metadata": {
    "collapsed": true
   },
   "outputs": [],
   "source": [
    "import numpy as np\n",
    "import matplotlib.pyplot as plt\n",
    "import pandas as pd"
   ]
  },
  {
   "cell_type": "code",
   "execution_count": 6,
   "metadata": {},
   "outputs": [],
   "source": [
    "class MontyHallProblem:\n",
    "    def __init__(self, num_lottery=3):\n",
    "        self.num_lottery = num_lottery\n",
    "        self.lottery = [i for i in range(num_lottery)]\n",
    "        self.win = np.random.choice(self.lottery)\n",
    "        \n",
    "    def exclude_loss(self, select):\n",
    "        '''\n",
    "        選択したくじと当たり以外で1つ除外したくじのリストを返す\n",
    "        '''\n",
    "        exclude_loss_lottery = []\n",
    "        exclude_lottery = self.win\n",
    "        while exclude_lottery == self.win or exclude_lottery == select:\n",
    "            exclude_lottery = np.random.choice(self.lottery)\n",
    "        for i in self.lottery:\n",
    "            if i != exclude_lottery:\n",
    "                exclude_loss_lottery.append(i)\n",
    "        return exclude_loss_lottery\n",
    "    \n",
    "    def check_hit(self, select):\n",
    "        ret = False\n",
    "        if self.win == select:\n",
    "            ret = True\n",
    "        return ret\n",
    "\n",
    "# テスト\n",
    "mhp = MontyHallProblem()\n",
    "assert len(mhp.lottery) == 3\n",
    "assert mhp.lottery == [0, 1, 2]\n",
    "assert len(mhp.exclude_loss(0)) == 2\n",
    "assert 0 in mhp.exclude_loss(0)\n",
    "assert mhp.win in mhp.exclude_loss(0)\n",
    "assert mhp.win == 0 or mhp.win == 1 or mhp.win == 2\n",
    "assert mhp.check_hit(mhp.win)\n",
    "assert not mhp.check_hit(3)"
   ]
  },
  {
   "cell_type": "markdown",
   "metadata": {},
   "source": [
    "## 検証"
   ]
  },
  {
   "cell_type": "code",
   "execution_count": 7,
   "metadata": {},
   "outputs": [
    {
     "name": "stdout",
     "output_type": "stream",
     "text": [
      "0 2 0 0\n",
      "0 1 1\n"
     ]
    },
    {
     "data": {
      "text/plain": [
       "(0, 1, 1)"
      ]
     },
     "execution_count": 7,
     "metadata": {},
     "output_type": "execute_result"
    }
   ],
   "source": [
    "def game(verbose=False):\n",
    "    # くじ引き作成\n",
    "    mhp = MontyHallProblem()\n",
    "    lottery = mhp.lottery\n",
    "\n",
    "    # 1つ選ぶ\n",
    "    select = np.random.choice(lottery)\n",
    "\n",
    "    # ハズレを一つ教えてもらう\n",
    "    exclude_loss_lottery = mhp.exclude_loss(select)\n",
    "\n",
    "    # 選択しなおす(しなおさない)\n",
    "    no_change = select # 選択しなおさない\n",
    "    change = [i for i in exclude_loss_lottery if i != select][0] # もう一方を選択する\n",
    "    re_select = np.random.choice(exclude_loss_lottery) # 残り2つで選択しなおす\n",
    "\n",
    "    # 当たり判定を行う\n",
    "    if verbose:\n",
    "        print(mhp.win, no_change, change, re_select)\n",
    "    no_change_cnt = 0\n",
    "    change_cnt = 0\n",
    "    re_select_cnt = 0\n",
    "    if mhp.check_hit(no_change):\n",
    "        no_change_cnt += 1\n",
    "    if mhp.check_hit(change):\n",
    "        change_cnt += 1\n",
    "    if mhp.check_hit(re_select):\n",
    "        re_select_cnt += 1\n",
    "    if verbose:\n",
    "        print(no_change_cnt, change_cnt, re_select_cnt)\n",
    "    return no_change_cnt, change_cnt, re_select_cnt\n",
    "\n",
    "game(True)"
   ]
  },
  {
   "cell_type": "code",
   "execution_count": 8,
   "metadata": {},
   "outputs": [
    {
     "name": "stdout",
     "output_type": "stream",
     "text": [
      "100000回実施\n",
      "選択するくじを変更しなかった場合: 33520回当たり、確率33.52%\n",
      "もう一方を選択しなおす場合: 66480回当たり、確率66.48%\n",
      "残り2つから選びなおす場合: 49902回当たり、確率49.90%\n"
     ]
    }
   ],
   "source": [
    "game_cnt = 100000\n",
    "no_change_cnt = 0\n",
    "change_cnt = 0\n",
    "re_select_cnt = 0\n",
    "\n",
    "for _ in range(game_cnt):\n",
    "    n, c, r = game()\n",
    "    no_change_cnt += n\n",
    "    change_cnt += c\n",
    "    re_select_cnt += r\n",
    "\n",
    "print('{}回実施'.format(game_cnt))\n",
    "print('選択するくじを変更しなかった場合: {}回当たり、確率{:.2f}%'.format(no_change_cnt, no_change_cnt/game_cnt*100))\n",
    "print('もう一方を選択しなおす場合: {}回当たり、確率{:.2f}%'.format(change_cnt, change_cnt/game_cnt*100))\n",
    "print('残り2つから選びなおす場合: {}回当たり、確率{:.2f}%'.format(re_select_cnt, re_select_cnt/game_cnt*100))"
   ]
  },
  {
   "cell_type": "code",
   "execution_count": null,
   "metadata": {
    "collapsed": true
   },
   "outputs": [],
   "source": []
  }
 ],
 "metadata": {
  "kernelspec": {
   "display_name": "Python 3",
   "language": "python",
   "name": "python3"
  },
  "language_info": {
   "codemirror_mode": {
    "name": "ipython",
    "version": 3
   },
   "file_extension": ".py",
   "mimetype": "text/x-python",
   "name": "python",
   "nbconvert_exporter": "python",
   "pygments_lexer": "ipython3",
   "version": "3.6.1"
  }
 },
 "nbformat": 4,
 "nbformat_minor": 2
}
